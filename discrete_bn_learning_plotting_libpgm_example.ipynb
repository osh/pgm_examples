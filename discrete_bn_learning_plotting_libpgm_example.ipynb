{
 "cells": [
  {
   "cell_type": "markdown",
   "metadata": {
    "deletable": true,
    "editable": true
   },
   "source": [
    "# LibPGM Examples and Plotting \n",
    "\n",
    "This notebook is just a set of reference routines for various BN training and plotting on discrete variables\n",
    "to be coppied and pasted into useful places"
   ]
  },
  {
   "cell_type": "code",
   "execution_count": 1,
   "metadata": {
    "collapsed": true,
    "deletable": true,
    "editable": true
   },
   "outputs": [],
   "source": [
    "# Imports\n",
    "import random,json\n",
    "from libpgm.graphskeleton import GraphSkeleton\n",
    "from libpgm.discretebayesiannetwork import DiscreteBayesianNetwork\n",
    "from libpgm.pgmlearner import PGMLearner"
   ]
  },
  {
   "cell_type": "code",
   "execution_count": 2,
   "metadata": {
    "collapsed": true,
    "deletable": true,
    "editable": true
   },
   "outputs": [],
   "source": [
    "variables = {\n",
    "    \"a\":[1,2,3,4],\n",
    "    \"b\":[\"a\",\"b\",\"c\",\"d\"],\n",
    "    \"c\":[\"h\",\"j\",\"k\",\"l\"],\n",
    "}\n"
   ]
  },
  {
   "cell_type": "code",
   "execution_count": 3,
   "metadata": {
    "collapsed": true,
    "deletable": true,
    "editable": true
   },
   "outputs": [],
   "source": [
    "cols=variables.keys()\n",
    "data = []\n",
    "\n",
    "for i in range(0,1000):\n",
    "    row = dict(map(lambda x: (x,random.choice(variables[x])), cols))\n",
    "\n",
    "    # Introduce some dependence\n",
    "    if row['a'] < 3:\n",
    "        row['c'] = random.choice(['h','j'])\n",
    "        if row['b'] == 'c':\n",
    "            row['c'] = 'h'\n",
    "\n",
    "    data.append(row)\n",
    "\n"
   ]
  },
  {
   "cell_type": "code",
   "execution_count": 4,
   "metadata": {
    "collapsed": false,
    "deletable": true,
    "editable": true
   },
   "outputs": [
    {
     "name": "stdout",
     "output_type": "stream",
     "text": [
      "['a', 'c', 'b']\n",
      "[['a', 'c'], ['c', 'b']]\n",
      "{'a': {'vals': [1, 2, 3, 4], 'numoutcomes': 4, 'cprob': [0.244, 0.241, 0.27, 0.245], 'parents': [], 'children': ['c']}, 'c': {'vals': ['h', 'j', 'k', 'l'], 'numoutcomes': 4, 'cprob': {\"['1']\": [0.569672131147541, 0.430327868852459, 0.0, 0.0], \"['3']\": [0.24074074074074073, 0.24444444444444444, 0.2518518518518518, 0.26296296296296295], \"['2']\": [0.6473029045643154, 0.35269709543568467, 0.0, 0.0], \"['4']\": [0.2897959183673469, 0.2530612244897959, 0.22040816326530613, 0.23673469387755103]}, 'parents': ['a'], 'children': ['b']}, 'b': {'vals': ['a', 'd', 'b', 'c'], 'numoutcomes': 4, 'cprob': {\"['h']\": [0.2111368909512761, 0.23665893271461716, 0.2111368909512761, 0.34106728538283065], \"['k']\": [0.26229508196721313, 0.21311475409836064, 0.22950819672131148, 0.29508196721311475], \"['j']\": [0.2641509433962264, 0.31761006289308175, 0.3333333333333333, 0.08490566037735849], \"['l']\": [0.24806201550387597, 0.21705426356589147, 0.2713178294573643, 0.26356589147286824]}, 'parents': ['c'], 'children': []}}\n"
     ]
    }
   ],
   "source": [
    "\n",
    "learner = PGMLearner()\n",
    "bn = learner.discrete_estimatebn(data)\n",
    "print bn.V\n",
    "print bn.E\n",
    "print bn.Vdata\n"
   ]
  },
  {
   "cell_type": "code",
   "execution_count": null,
   "metadata": {
    "collapsed": true,
    "deletable": true,
    "editable": true
   },
   "outputs": [],
   "source": []
  },
  {
   "cell_type": "code",
   "execution_count": 11,
   "metadata": {
    "collapsed": false,
    "deletable": true,
    "editable": true
   },
   "outputs": [
    {
     "data": {
      "text/plain": [
       "{'a': <matplotlib.text.Text at 0x7f9857d0f750>,\n",
       " 'b': <matplotlib.text.Text at 0x7f9857d0ff50>,\n",
       " 'c': <matplotlib.text.Text at 0x7f9857d0fb10>}"
      ]
     },
     "execution_count": 11,
     "metadata": {},
     "output_type": "execute_result"
    },
    {
     "data": {
      "image/png": "[encoded data removed]",
      "text/plain": [
       "<matplotlib.figure.Figure at 0x7f986358a590>"
      ]
     },
     "metadata": {},
     "output_type": "display_data"
    }
   ],
   "source": [
    "# Plot the learned BN graph\n",
    "import networkx as nx\n",
    "import numpy as np\n",
    "import matplotlib.pyplot as plt\n",
    "import matplotlib\n",
    "%matplotlib inline\n",
    "\n",
    "# Set up the graph \n",
    "G = nx.DiGraph()\n",
    "red_edges = bn.E\n",
    "G.add_edges_from(bn.E)\n",
    "values = bn.V\n",
    "labels = dict(zip(values,values))\n",
    "\n",
    "# Plots ...\n",
    "plt.figure()\n",
    "plt.axis('off')\n",
    "pos = nx.spring_layout(G)\n",
    "nx.draw_networkx_edges(G, pos, edgelist=red_edges, edge_color='r', arrows=True)\n",
    "nx.draw_networkx_nodes(G,pos,nodelist=values,node_color='g')\n",
    "nx.draw_networkx_labels(G,pos,labels,font_size=16)\n"
   ]
  },
  {
   "cell_type": "code",
   "execution_count": 12,
   "metadata": {
    "collapsed": false,
    "deletable": true,
    "editable": true
   },
   "outputs": [
    {
     "data": {
      "text/plain": [
       "<matplotlib.text.Text at 0x7f9857c896d0>"
      ]
     },
     "execution_count": 12,
     "metadata": {},
     "output_type": "execute_result"
    },
    {
     "data": {
      "image/png": "[encoded data removed]",
      "text/plain": [
       "<matplotlib.figure.Figure at 0x7f9857d75390>"
      ]
     },
     "metadata": {},
     "output_type": "display_data"
    }
   ],
   "source": [
    "# Plot distributions\n",
    "# P(C|A=1)\n",
    "fig, ax = plt.subplots()\n",
    "idx = np.arange(4)\n",
    "bn.Vdata['c']['cprob']\n",
    "ax.bar(idx, bn.Vdata['c']['cprob'][\"['1']\"], align='center')\n",
    "plt.grid(False)\n",
    "plt.ylabel(\"Probability\")\n",
    "list_item = variables['c']\n",
    "\n",
    "ax.set_xticks(np.arange(len(list_item)))\n",
    "ax.set_xticklabels(list_item,rotation=40,fontsize='x-small')\n",
    "plt.title('P(C|A=1)')\n",
    "#plt.plot()"
   ]
  },
  {
   "cell_type": "code",
   "execution_count": 22,
   "metadata": {
    "collapsed": false,
    "deletable": true,
    "editable": true
   },
   "outputs": [
    {
     "data": {
      "text/plain": [
       "[<matplotlib.text.Text at 0x7f9857f72310>,\n",
       " <matplotlib.text.Text at 0x7f9857634090>,\n",
       " <matplotlib.text.Text at 0x7f985758fe90>,\n",
       " <matplotlib.text.Text at 0x7f98575853d0>]"
      ]
     },
     "execution_count": 22,
     "metadata": {},
     "output_type": "execute_result"
    },
    {
     "data": {
      "image/png": "[encoded data removed]",
      "text/plain": [
       "<matplotlib.figure.Figure at 0x7f9857feb290>"
      ]
     },
     "metadata": {},
     "output_type": "display_data"
    }
   ],
   "source": [
    "\n",
    "# Set up up variables\n",
    "cpds = bn.Vdata['c']['cprob']\n",
    "cpd_idx = cpds.keys()\n",
    "c_vals = variables['c']\n",
    "p_vals = np.vstack(map(lambda x: cpds[x], cpd_idx))\n",
    "xvals = variables['c']\n",
    "yvals = cpd_idx\n",
    "\n",
    "# Plot simple matplot lib way ..\n",
    "fig, ax = plt.subplots()\n",
    "#plt.imshow(p_vals, cmap='hot',interpolation='nearest')\n",
    "#plt.imshow(p_vals, cmap='nipy_spectral', interpolation='nearest')\n",
    "#plt.imshow(p_vals, cmap='jet', interpolation='nearest')\n",
    "#plt.imshow(p_vals, cmap='gnuplot', interpolation='nearest')\n",
    "plt.imshow(p_vals, cmap=matplotlib.cm.Blues, interpolation='nearest')\n",
    "plt.colorbar()\n",
    "plt.title(\"P(C|A)\")\n",
    "plt.grid(False)\n",
    "plt.xlabel(\"C Value\")\n",
    "plt.ylabel(\"A Value\")\n",
    "\n",
    "ax.set_xticks(np.arange(len(xvals)))\n",
    "ax.set_xticklabels(xvals,rotation=40,fontsize='x-small')\n",
    "\n",
    "ax.set_yticks(np.arange(len(yvals)))\n",
    "ax.set_yticklabels(yvals,rotation=40,fontsize='x-small')"
   ]
  },
  {
   "cell_type": "code",
   "execution_count": 23,
   "metadata": {
    "collapsed": false,
    "deletable": true,
    "editable": true,
    "scrolled": false
   },
   "outputs": [
    {
     "data": {
      "image/png": "[encoded data removed]",
      "text/plain": [
       "<matplotlib.figure.Figure at 0x7f9857d60e10>"
      ]
     },
     "metadata": {},
     "output_type": "display_data"
    }
   ],
   "source": [
    "\n",
    "# Super simple pandas version heatmap\n",
    "import pandas as pd\n",
    "vd = {}\n",
    "for i,xv in enumerate(xvals):\n",
    "    for j,yv in enumerate(yvals):\n",
    "       vd[(xv,yv)] = p_vals[i,j]\n",
    "ser = pd.Series(list(vd.values()),\n",
    "                  index=pd.MultiIndex.from_tuples(vd.keys()))\n",
    "df = ser.unstack().fillna(0)\n",
    "df.shape\n",
    "import seaborn as sns\n",
    "plt.title('P(C|A)')\n",
    "sns.heatmap(df);"
   ]
  },
  {
   "cell_type": "code",
   "execution_count": null,
   "metadata": {
    "collapsed": true,
    "deletable": true,
    "editable": true
   },
   "outputs": [],
   "source": []
  },
  {
   "cell_type": "code",
   "execution_count": null,
   "metadata": {
    "collapsed": true,
    "deletable": true,
    "editable": true
   },
   "outputs": [],
   "source": []
  },
  {
   "cell_type": "code",
   "execution_count": 40,
   "metadata": {
    "collapsed": false,
    "deletable": true,
    "editable": true
   },
   "outputs": [
    {
     "data": {
      "text/plain": [
       "<matplotlib.text.Text at 0x7f98578e5d50>"
      ]
     },
     "execution_count": 40,
     "metadata": {},
     "output_type": "execute_result"
    },
    {
     "data": {
      "image/png": "[encoded data removed]",
      "text/plain": [
       "<matplotlib.figure.Figure at 0x7f98559dfad0>"
      ]
     },
     "metadata": {},
     "output_type": "display_data"
    }
   ],
   "source": [
    "# Plot some sampled distributions\n",
    "\n",
    "evidence = {'b': 'c'}\n",
    "nsamp = 10000\n",
    "result = bn.randomsample(nsamp,evidence=evidence)\n",
    "target_variable = 'a'\n",
    "vals = map(lambda x: x[target_variable], result)\n",
    "#print vals\n",
    "\n",
    "nvals = 4\n",
    "n, bins, patches = plt.hist(vals, nvals, normed=1, facecolor='green', alpha=0.75)\n",
    "plt.xlabel('A values')\n",
    "plt.ylabel('Histogram Density')\n",
    "plt.title(\"P(A|B=c) Estimate\")\n"
   ]
  },
  {
   "cell_type": "code",
   "execution_count": 59,
   "metadata": {
    "collapsed": false,
    "deletable": true,
    "editable": true
   },
   "outputs": [
    {
     "data": {
      "text/plain": [
       "<matplotlib.text.Text at 0x7f98579334d0>"
      ]
     },
     "execution_count": 59,
     "metadata": {},
     "output_type": "execute_result"
    },
    {
     "data": {
      "image/png": "[encoded data removed]",
      "text/plain": [
       "<matplotlib.figure.Figure at 0x7f98576db150>"
      ]
     },
     "metadata": {},
     "output_type": "display_data"
    }
   ],
   "source": [
    "# Plot some distributions from random sampling with evidence\n",
    "\n",
    "evidence = {'c': 'j'}\n",
    "nsamp = 10000\n",
    "result = bn.randomsample(nsamp,evidence=evidence)\n",
    "target_variable = 'b'\n",
    "vals = map(lambda x: x[target_variable], result)\n",
    "#print vals\n",
    "\n",
    "nvals = len(vals)\n",
    "#print vals\n",
    "\n",
    "from collections import Counter; \n",
    "hist = Counter(vals)\n",
    "\n",
    "fig, ax = plt.subplots()\n",
    "idx = np.arange(len(hist.values()))\n",
    "ax.bar(idx, hist.values(), align='center')\n",
    "ax.set_xticks(np.arange(len(hist.keys())))\n",
    "ax.set_xticklabels(hist.keys(),rotation=40,fontsize='x-small')\n",
    "plt.title('P(B|C=J)')\n",
    "plt.xlabel('C Value')\n",
    "plt.ylabel('B Density')\n"
   ]
  },
  {
   "cell_type": "code",
   "execution_count": null,
   "metadata": {
    "collapsed": false,
    "deletable": true,
    "editable": true
   },
   "outputs": [],
   "source": []
  },
  {
   "cell_type": "code",
   "execution_count": null,
   "metadata": {
    "collapsed": false,
    "deletable": true,
    "editable": true
   },
   "outputs": [],
   "source": []
  },
  {
   "cell_type": "code",
   "execution_count": null,
   "metadata": {
    "collapsed": true,
    "deletable": true,
    "editable": true
   },
   "outputs": [],
   "source": []
  }
 ],
 "metadata": {
  "kernelspec": {
   "display_name": "Python 3",
   "language": "python",
   "name": "python3"
  },
  "language_info": {
   "codemirror_mode": {
    "name": "ipython",
    "version": 3
   },
   "file_extension": ".py",
   "mimetype": "text/x-python",
   "name": "python",
   "nbconvert_exporter": "python",
   "pygments_lexer": "ipython3",
   "version": "3.5.2"
  }
 },
 "nbformat": 4,
 "nbformat_minor": 1
}
